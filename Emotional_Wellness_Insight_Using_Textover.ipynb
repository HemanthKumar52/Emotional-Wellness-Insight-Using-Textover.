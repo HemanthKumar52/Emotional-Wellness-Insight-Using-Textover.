{
  "nbformat": 4,
  "nbformat_minor": 0,
  "metadata": {
    "colab": {
      "provenance": []
    },
    "kernelspec": {
      "name": "python3",
      "display_name": "Python 3"
    },
    "language_info": {
      "name": "python"
    }
  },
  "cells": [
    {
      "cell_type": "code",
      "source": [
        "# Import necessary libraries\n",
        "import nltk\n",
        "from nltk.sentiment.vader import SentimentIntensityAnalyzer\n",
        "\n",
        "# Download the VADER lexicon for sentiment analysis\n",
        "nltk.download('vader_lexicon')\n",
        "\n",
        "# Initialize the Sentiment Intensity Analyzer\n",
        "sia = SentimentIntensityAnalyzer()\n",
        "\n",
        "# Function to analyze the sentiment of a given text input\n",
        "def analyze_sentiment(text):\n",
        "    sentiment = sia.polarity_scores(text)\n",
        "\n",
        "    # Interpretation of the compound score\n",
        "    if sentiment['compound'] >= 0.05:\n",
        "        sentiment_label = \"Positive\"\n",
        "    elif sentiment['compound'] <= -0.05:\n",
        "        sentiment_label = \"Negative\"\n",
        "    else:\n",
        "        sentiment_label = \"Neutral\"\n",
        "\n",
        "    return sentiment, sentiment_label\n",
        "\n",
        "# Function to provide mental health tips based on sentiment\n",
        "def provide_suggestions(sentiment_label):\n",
        "    if sentiment_label == \"Positive\":\n",
        "        print(\"Great to hear you're feeling positive! Keep it up.\")\n",
        "    elif sentiment_label == \"Neutral\":\n",
        "        print(\"You seem neutral. How about taking a break or doing something you enjoy?\")\n",
        "    else:\n",
        "        print(\"It seems like you're feeling down. Consider talking to a friend or doing a relaxing activity.\")\n",
        "\n",
        "# Get input from the user\n",
        "user_input = input(\"How are you feeling today? Please describe in a sentence: \")\n",
        "\n",
        "# Analyze the sentiment of the input\n",
        "sentiment, label = analyze_sentiment(user_input)\n",
        "\n",
        "# Output the sentiment scores and the label\n",
        "print(f\"Sentiment Scores: {sentiment}\")\n",
        "print(f\"Overall Sentiment: {label}\")\n",
        "\n",
        "# Provide suggestions based on the sentiment label\n",
        "provide_suggestions(label)\n"
      ],
      "metadata": {
        "colab": {
          "base_uri": "https://localhost:8080/"
        },
        "id": "EjhAky8MPrgJ",
        "outputId": "fb484fde-9f2f-4a62-86b4-343c64c3ca59"
      },
      "execution_count": 1,
      "outputs": [
        {
          "output_type": "stream",
          "name": "stderr",
          "text": [
            "[nltk_data] Downloading package vader_lexicon to /root/nltk_data...\n"
          ]
        },
        {
          "output_type": "stream",
          "name": "stdout",
          "text": [
            "How are you feeling today? Please describe in a sentence: i feel stress today\n",
            "Sentiment Scores: {'neg': 0.583, 'neu': 0.417, 'pos': 0.0, 'compound': -0.4215}\n",
            "Overall Sentiment: Negative\n",
            "It seems like you're feeling down. Consider talking to a friend or doing a relaxing activity.\n"
          ]
        }
      ]
    }
  ]
}